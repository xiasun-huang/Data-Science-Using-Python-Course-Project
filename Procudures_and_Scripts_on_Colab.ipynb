{
  "nbformat": 4,
  "nbformat_minor": 0,
  "metadata": {
    "colab": {
      "name": "Procudures and Scripts on Colab.ipynb",
      "provenance": [],
      "collapsed_sections": [],
      "toc_visible": true
    },
    "kernelspec": {
      "name": "python3",
      "display_name": "Python 3"
    },
    "language_info": {
      "name": "python"
    }
  },
  "cells": [
    {
      "cell_type": "code",
      "execution_count": null,
      "metadata": {
        "id": "JIlfLhXmiWe8",
        "colab": {
          "base_uri": "https://localhost:8080/"
        },
        "outputId": "6e70715f-feeb-405f-fd04-b1429c7982c8"
      },
      "outputs": [
        {
          "output_type": "stream",
          "name": "stdout",
          "text": [
            "Mounted at /content/drive\n"
          ]
        }
      ],
      "source": [
        "from google.colab import drive\n",
        "drive.mount('/content/drive')"
      ]
    },
    {
      "cell_type": "code",
      "source": [
        "cd '/content/drive/Shareddrives/Team 7 Data Science using Python Project'"
      ],
      "metadata": {
        "colab": {
          "base_uri": "https://localhost:8080/"
        },
        "id": "JYpa3zpbwpIG",
        "outputId": "e5fe2215-1fe5-46d4-af51-d248bbd029b9"
      },
      "execution_count": null,
      "outputs": [
        {
          "output_type": "stream",
          "name": "stdout",
          "text": [
            "/content/drive/Shareddrives/Team 7 Data Science using Python Project\n"
          ]
        }
      ]
    },
    {
      "cell_type": "code",
      "source": [
        "import pandas as pd\n",
        "df = pd.read_csv('data.csv')"
      ],
      "metadata": {
        "id": "NjvKLvb4xFk7"
      },
      "execution_count": null,
      "outputs": []
    },
    {
      "cell_type": "code",
      "source": [
        "len(df) # number of records"
      ],
      "metadata": {
        "colab": {
          "base_uri": "https://localhost:8080/"
        },
        "id": "E6L1vPsHx7DO",
        "outputId": "4b6f6af6-99dd-4486-95e2-bfc9740ae903"
      },
      "execution_count": null,
      "outputs": [
        {
          "output_type": "execute_result",
          "data": {
            "text/plain": [
              "6819"
            ]
          },
          "metadata": {},
          "execution_count": 5
        }
      ]
    },
    {
      "cell_type": "code",
      "source": [
        "len(df.columns) # number of variables"
      ],
      "metadata": {
        "colab": {
          "base_uri": "https://localhost:8080/"
        },
        "id": "SwbBVRuR0RL0",
        "outputId": "af477e09-4ae0-4f9f-a6f6-89df073d1b00"
      },
      "execution_count": null,
      "outputs": [
        {
          "output_type": "execute_result",
          "data": {
            "text/plain": [
              "96"
            ]
          },
          "metadata": {},
          "execution_count": 6
        }
      ]
    },
    {
      "cell_type": "code",
      "source": [
        "df.isnull().sum() # no missing values"
      ],
      "metadata": {
        "colab": {
          "base_uri": "https://localhost:8080/"
        },
        "id": "b_w9an4Lx9wL",
        "outputId": "1a8301f7-1d5d-4672-c8ef-5909ef4770ac"
      },
      "execution_count": null,
      "outputs": [
        {
          "output_type": "execute_result",
          "data": {
            "text/plain": [
              "Bankrupt?                                                   0\n",
              " ROA(C) before interest and depreciation before interest    0\n",
              " ROA(A) before interest and % after tax                     0\n",
              " ROA(B) before interest and depreciation after tax          0\n",
              " Operating Gross Margin                                     0\n",
              "                                                           ..\n",
              " Liability to Equity                                        0\n",
              " Degree of Financial Leverage (DFL)                         0\n",
              " Interest Coverage Ratio (Interest expense to EBIT)         0\n",
              " Net Income Flag                                            0\n",
              " Equity to Liability                                        0\n",
              "Length: 96, dtype: int64"
            ]
          },
          "metadata": {},
          "execution_count": 7
        }
      ]
    },
    {
      "cell_type": "code",
      "source": [
        "# rename columns\n",
        "df.rename(columns={i: i.strip() for i in df.columns}, inplace=True)\n",
        "df.head()"
      ],
      "metadata": {
        "colab": {
          "base_uri": "https://localhost:8080/",
          "height": 386
        },
        "id": "e1OFWXA0yJ61",
        "outputId": "bc8afea4-a1d7-422c-db3c-e7ba6d63739f"
      },
      "execution_count": null,
      "outputs": [
        {
          "output_type": "execute_result",
          "data": {
            "text/plain": [
              "   Bankrupt?  ROA(C) before interest and depreciation before interest  \\\n",
              "0          1                                           0.370594         \n",
              "1          1                                           0.464291         \n",
              "2          1                                           0.426071         \n",
              "3          1                                           0.399844         \n",
              "4          1                                           0.465022         \n",
              "\n",
              "   ROA(A) before interest and % after tax  \\\n",
              "0                                0.424389   \n",
              "1                                0.538214   \n",
              "2                                0.499019   \n",
              "3                                0.451265   \n",
              "4                                0.538432   \n",
              "\n",
              "   ROA(B) before interest and depreciation after tax  Operating Gross Margin  \\\n",
              "0                                           0.405750                0.601457   \n",
              "1                                           0.516730                0.610235   \n",
              "2                                           0.472295                0.601450   \n",
              "3                                           0.457733                0.583541   \n",
              "4                                           0.522298                0.598783   \n",
              "\n",
              "   Realized Sales Gross Margin  Operating Profit Rate  \\\n",
              "0                     0.601457               0.998969   \n",
              "1                     0.610235               0.998946   \n",
              "2                     0.601364               0.998857   \n",
              "3                     0.583541               0.998700   \n",
              "4                     0.598783               0.998973   \n",
              "\n",
              "   Pre-tax net Interest Rate  After-tax net Interest Rate  \\\n",
              "0                   0.796887                     0.808809   \n",
              "1                   0.797380                     0.809301   \n",
              "2                   0.796403                     0.808388   \n",
              "3                   0.796967                     0.808966   \n",
              "4                   0.797366                     0.809304   \n",
              "\n",
              "   Non-industry income and expenditure/revenue  ...  \\\n",
              "0                                     0.302646  ...   \n",
              "1                                     0.303556  ...   \n",
              "2                                     0.302035  ...   \n",
              "3                                     0.303350  ...   \n",
              "4                                     0.303475  ...   \n",
              "\n",
              "   Net Income to Total Assets  Total assets to GNP price  No-credit Interval  \\\n",
              "0                    0.716845                   0.009219            0.622879   \n",
              "1                    0.795297                   0.008323            0.623652   \n",
              "2                    0.774670                   0.040003            0.623841   \n",
              "3                    0.739555                   0.003252            0.622929   \n",
              "4                    0.795016                   0.003878            0.623521   \n",
              "\n",
              "   Gross Profit to Sales  Net Income to Stockholder's Equity  \\\n",
              "0               0.601453                            0.827890   \n",
              "1               0.610237                            0.839969   \n",
              "2               0.601449                            0.836774   \n",
              "3               0.583538                            0.834697   \n",
              "4               0.598782                            0.839973   \n",
              "\n",
              "   Liability to Equity  Degree of Financial Leverage (DFL)  \\\n",
              "0             0.290202                            0.026601   \n",
              "1             0.283846                            0.264577   \n",
              "2             0.290189                            0.026555   \n",
              "3             0.281721                            0.026697   \n",
              "4             0.278514                            0.024752   \n",
              "\n",
              "   Interest Coverage Ratio (Interest expense to EBIT)  Net Income Flag  \\\n",
              "0                                           0.564050                 1   \n",
              "1                                           0.570175                 1   \n",
              "2                                           0.563706                 1   \n",
              "3                                           0.564663                 1   \n",
              "4                                           0.575617                 1   \n",
              "\n",
              "   Equity to Liability  \n",
              "0             0.016469  \n",
              "1             0.020794  \n",
              "2             0.016474  \n",
              "3             0.023982  \n",
              "4             0.035490  \n",
              "\n",
              "[5 rows x 96 columns]"
            ],
            "text/html": [
              "\n",
              "  <div id=\"df-9e5153ec-5d27-40f4-8977-e2cadad10dd9\">\n",
              "    <div class=\"colab-df-container\">\n",
              "      <div>\n",
              "<style scoped>\n",
              "    .dataframe tbody tr th:only-of-type {\n",
              "        vertical-align: middle;\n",
              "    }\n",
              "\n",
              "    .dataframe tbody tr th {\n",
              "        vertical-align: top;\n",
              "    }\n",
              "\n",
              "    .dataframe thead th {\n",
              "        text-align: right;\n",
              "    }\n",
              "</style>\n",
              "<table border=\"1\" class=\"dataframe\">\n",
              "  <thead>\n",
              "    <tr style=\"text-align: right;\">\n",
              "      <th></th>\n",
              "      <th>Bankrupt?</th>\n",
              "      <th>ROA(C) before interest and depreciation before interest</th>\n",
              "      <th>ROA(A) before interest and % after tax</th>\n",
              "      <th>ROA(B) before interest and depreciation after tax</th>\n",
              "      <th>Operating Gross Margin</th>\n",
              "      <th>Realized Sales Gross Margin</th>\n",
              "      <th>Operating Profit Rate</th>\n",
              "      <th>Pre-tax net Interest Rate</th>\n",
              "      <th>After-tax net Interest Rate</th>\n",
              "      <th>Non-industry income and expenditure/revenue</th>\n",
              "      <th>...</th>\n",
              "      <th>Net Income to Total Assets</th>\n",
              "      <th>Total assets to GNP price</th>\n",
              "      <th>No-credit Interval</th>\n",
              "      <th>Gross Profit to Sales</th>\n",
              "      <th>Net Income to Stockholder's Equity</th>\n",
              "      <th>Liability to Equity</th>\n",
              "      <th>Degree of Financial Leverage (DFL)</th>\n",
              "      <th>Interest Coverage Ratio (Interest expense to EBIT)</th>\n",
              "      <th>Net Income Flag</th>\n",
              "      <th>Equity to Liability</th>\n",
              "    </tr>\n",
              "  </thead>\n",
              "  <tbody>\n",
              "    <tr>\n",
              "      <th>0</th>\n",
              "      <td>1</td>\n",
              "      <td>0.370594</td>\n",
              "      <td>0.424389</td>\n",
              "      <td>0.405750</td>\n",
              "      <td>0.601457</td>\n",
              "      <td>0.601457</td>\n",
              "      <td>0.998969</td>\n",
              "      <td>0.796887</td>\n",
              "      <td>0.808809</td>\n",
              "      <td>0.302646</td>\n",
              "      <td>...</td>\n",
              "      <td>0.716845</td>\n",
              "      <td>0.009219</td>\n",
              "      <td>0.622879</td>\n",
              "      <td>0.601453</td>\n",
              "      <td>0.827890</td>\n",
              "      <td>0.290202</td>\n",
              "      <td>0.026601</td>\n",
              "      <td>0.564050</td>\n",
              "      <td>1</td>\n",
              "      <td>0.016469</td>\n",
              "    </tr>\n",
              "    <tr>\n",
              "      <th>1</th>\n",
              "      <td>1</td>\n",
              "      <td>0.464291</td>\n",
              "      <td>0.538214</td>\n",
              "      <td>0.516730</td>\n",
              "      <td>0.610235</td>\n",
              "      <td>0.610235</td>\n",
              "      <td>0.998946</td>\n",
              "      <td>0.797380</td>\n",
              "      <td>0.809301</td>\n",
              "      <td>0.303556</td>\n",
              "      <td>...</td>\n",
              "      <td>0.795297</td>\n",
              "      <td>0.008323</td>\n",
              "      <td>0.623652</td>\n",
              "      <td>0.610237</td>\n",
              "      <td>0.839969</td>\n",
              "      <td>0.283846</td>\n",
              "      <td>0.264577</td>\n",
              "      <td>0.570175</td>\n",
              "      <td>1</td>\n",
              "      <td>0.020794</td>\n",
              "    </tr>\n",
              "    <tr>\n",
              "      <th>2</th>\n",
              "      <td>1</td>\n",
              "      <td>0.426071</td>\n",
              "      <td>0.499019</td>\n",
              "      <td>0.472295</td>\n",
              "      <td>0.601450</td>\n",
              "      <td>0.601364</td>\n",
              "      <td>0.998857</td>\n",
              "      <td>0.796403</td>\n",
              "      <td>0.808388</td>\n",
              "      <td>0.302035</td>\n",
              "      <td>...</td>\n",
              "      <td>0.774670</td>\n",
              "      <td>0.040003</td>\n",
              "      <td>0.623841</td>\n",
              "      <td>0.601449</td>\n",
              "      <td>0.836774</td>\n",
              "      <td>0.290189</td>\n",
              "      <td>0.026555</td>\n",
              "      <td>0.563706</td>\n",
              "      <td>1</td>\n",
              "      <td>0.016474</td>\n",
              "    </tr>\n",
              "    <tr>\n",
              "      <th>3</th>\n",
              "      <td>1</td>\n",
              "      <td>0.399844</td>\n",
              "      <td>0.451265</td>\n",
              "      <td>0.457733</td>\n",
              "      <td>0.583541</td>\n",
              "      <td>0.583541</td>\n",
              "      <td>0.998700</td>\n",
              "      <td>0.796967</td>\n",
              "      <td>0.808966</td>\n",
              "      <td>0.303350</td>\n",
              "      <td>...</td>\n",
              "      <td>0.739555</td>\n",
              "      <td>0.003252</td>\n",
              "      <td>0.622929</td>\n",
              "      <td>0.583538</td>\n",
              "      <td>0.834697</td>\n",
              "      <td>0.281721</td>\n",
              "      <td>0.026697</td>\n",
              "      <td>0.564663</td>\n",
              "      <td>1</td>\n",
              "      <td>0.023982</td>\n",
              "    </tr>\n",
              "    <tr>\n",
              "      <th>4</th>\n",
              "      <td>1</td>\n",
              "      <td>0.465022</td>\n",
              "      <td>0.538432</td>\n",
              "      <td>0.522298</td>\n",
              "      <td>0.598783</td>\n",
              "      <td>0.598783</td>\n",
              "      <td>0.998973</td>\n",
              "      <td>0.797366</td>\n",
              "      <td>0.809304</td>\n",
              "      <td>0.303475</td>\n",
              "      <td>...</td>\n",
              "      <td>0.795016</td>\n",
              "      <td>0.003878</td>\n",
              "      <td>0.623521</td>\n",
              "      <td>0.598782</td>\n",
              "      <td>0.839973</td>\n",
              "      <td>0.278514</td>\n",
              "      <td>0.024752</td>\n",
              "      <td>0.575617</td>\n",
              "      <td>1</td>\n",
              "      <td>0.035490</td>\n",
              "    </tr>\n",
              "  </tbody>\n",
              "</table>\n",
              "<p>5 rows × 96 columns</p>\n",
              "</div>\n",
              "      <button class=\"colab-df-convert\" onclick=\"convertToInteractive('df-9e5153ec-5d27-40f4-8977-e2cadad10dd9')\"\n",
              "              title=\"Convert this dataframe to an interactive table.\"\n",
              "              style=\"display:none;\">\n",
              "        \n",
              "  <svg xmlns=\"http://www.w3.org/2000/svg\" height=\"24px\"viewBox=\"0 0 24 24\"\n",
              "       width=\"24px\">\n",
              "    <path d=\"M0 0h24v24H0V0z\" fill=\"none\"/>\n",
              "    <path d=\"M18.56 5.44l.94 2.06.94-2.06 2.06-.94-2.06-.94-.94-2.06-.94 2.06-2.06.94zm-11 1L8.5 8.5l.94-2.06 2.06-.94-2.06-.94L8.5 2.5l-.94 2.06-2.06.94zm10 10l.94 2.06.94-2.06 2.06-.94-2.06-.94-.94-2.06-.94 2.06-2.06.94z\"/><path d=\"M17.41 7.96l-1.37-1.37c-.4-.4-.92-.59-1.43-.59-.52 0-1.04.2-1.43.59L10.3 9.45l-7.72 7.72c-.78.78-.78 2.05 0 2.83L4 21.41c.39.39.9.59 1.41.59.51 0 1.02-.2 1.41-.59l7.78-7.78 2.81-2.81c.8-.78.8-2.07 0-2.86zM5.41 20L4 18.59l7.72-7.72 1.47 1.35L5.41 20z\"/>\n",
              "  </svg>\n",
              "      </button>\n",
              "      \n",
              "  <style>\n",
              "    .colab-df-container {\n",
              "      display:flex;\n",
              "      flex-wrap:wrap;\n",
              "      gap: 12px;\n",
              "    }\n",
              "\n",
              "    .colab-df-convert {\n",
              "      background-color: #E8F0FE;\n",
              "      border: none;\n",
              "      border-radius: 50%;\n",
              "      cursor: pointer;\n",
              "      display: none;\n",
              "      fill: #1967D2;\n",
              "      height: 32px;\n",
              "      padding: 0 0 0 0;\n",
              "      width: 32px;\n",
              "    }\n",
              "\n",
              "    .colab-df-convert:hover {\n",
              "      background-color: #E2EBFA;\n",
              "      box-shadow: 0px 1px 2px rgba(60, 64, 67, 0.3), 0px 1px 3px 1px rgba(60, 64, 67, 0.15);\n",
              "      fill: #174EA6;\n",
              "    }\n",
              "\n",
              "    [theme=dark] .colab-df-convert {\n",
              "      background-color: #3B4455;\n",
              "      fill: #D2E3FC;\n",
              "    }\n",
              "\n",
              "    [theme=dark] .colab-df-convert:hover {\n",
              "      background-color: #434B5C;\n",
              "      box-shadow: 0px 1px 3px 1px rgba(0, 0, 0, 0.15);\n",
              "      filter: drop-shadow(0px 1px 2px rgba(0, 0, 0, 0.3));\n",
              "      fill: #FFFFFF;\n",
              "    }\n",
              "  </style>\n",
              "\n",
              "      <script>\n",
              "        const buttonEl =\n",
              "          document.querySelector('#df-9e5153ec-5d27-40f4-8977-e2cadad10dd9 button.colab-df-convert');\n",
              "        buttonEl.style.display =\n",
              "          google.colab.kernel.accessAllowed ? 'block' : 'none';\n",
              "\n",
              "        async function convertToInteractive(key) {\n",
              "          const element = document.querySelector('#df-9e5153ec-5d27-40f4-8977-e2cadad10dd9');\n",
              "          const dataTable =\n",
              "            await google.colab.kernel.invokeFunction('convertToInteractive',\n",
              "                                                     [key], {});\n",
              "          if (!dataTable) return;\n",
              "\n",
              "          const docLinkHtml = 'Like what you see? Visit the ' +\n",
              "            '<a target=\"_blank\" href=https://colab.research.google.com/notebooks/data_table.ipynb>data table notebook</a>'\n",
              "            + ' to learn more about interactive tables.';\n",
              "          element.innerHTML = '';\n",
              "          dataTable['output_type'] = 'display_data';\n",
              "          await google.colab.output.renderOutput(dataTable, element);\n",
              "          const docLink = document.createElement('div');\n",
              "          docLink.innerHTML = docLinkHtml;\n",
              "          element.appendChild(docLink);\n",
              "        }\n",
              "      </script>\n",
              "    </div>\n",
              "  </div>\n",
              "  "
            ]
          },
          "metadata": {},
          "execution_count": 8
        }
      ]
    },
    {
      "cell_type": "markdown",
      "source": [
        "# Variable Summarization\n",
        "\n",
        "We have 96 variables. We summarize those variables as follows (per Altman's Z Score):\n",
        "\n",
        "\n",
        "*   Liquidity\n",
        "*   Profitablity\n",
        "*   Activity/efficiency\n",
        "*   Leverage\n",
        "*   Solvency\n",
        "*   Shareholder Value (not from Z score model)"
      ],
      "metadata": {
        "id": "grWbwGjb0Npr"
      }
    },
    {
      "cell_type": "code",
      "source": [
        "Liquidity = [df.columns[13], \n",
        "df.columns[32], \n",
        "df.columns[33], \n",
        "df.columns[34], \n",
        "df.columns[44], \n",
        "df.columns[45], \n",
        "df.columns[46], \n",
        "df.columns[47], \n",
        "df.columns[48], \n",
        "df.columns[49], \n",
        "df.columns[50], \n",
        "df.columns[54], \n",
        "df.columns[55], \n",
        "df.columns[56], \n",
        "df.columns[57], \n",
        "df.columns[58], \n",
        "df.columns[59], \n",
        "df.columns[60], \n",
        "df.columns[61], \n",
        "df.columns[62], \n",
        "df.columns[63], \n",
        "df.columns[64], \n",
        "df.columns[65], \n",
        "df.columns[72], \n",
        "df.columns[73], \n",
        "df.columns[84], \n",
        "df.columns[88], \n",
        "df.columns[93]\n",
        "]\n",
        "Profitability = [df.columns[4], \n",
        "df.columns[5], \n",
        "df.columns[6], \n",
        "df.columns[7], \n",
        "df.columns[8], \n",
        "df.columns[9], \n",
        "df.columns[10], \n",
        "df.columns[11], \n",
        "df.columns[12], \n",
        "df.columns[15], \n",
        "df.columns[24], \n",
        "df.columns[25], \n",
        "df.columns[26], \n",
        "df.columns[27], \n",
        "df.columns[28], \n",
        "df.columns[35], \n",
        "df.columns[51], \n",
        "df.columns[68], \n",
        "df.columns[69], \n",
        "df.columns[70], \n",
        "df.columns[89], \n",
        "df.columns[90], \n",
        "df.columns[94]\n",
        "]\n",
        "Efficiency = [df.columns[1], \n",
        "df.columns[2], \n",
        "df.columns[3], \n",
        "df.columns[29], \n",
        "df.columns[30], \n",
        "df.columns[31], \n",
        "df.columns[42], \n",
        "df.columns[43], \n",
        "df.columns[52], \n",
        "df.columns[53], \n",
        "df.columns[71], \n",
        "df.columns[76], \n",
        "df.columns[86], \n",
        "df.columns[87]\n",
        "]\n",
        "Leverage = [df.columns[14], \n",
        "df.columns[36], \n",
        "df.columns[37], \n",
        "df.columns[38], \n",
        "df.columns[39], \n",
        "df.columns[40], \n",
        "df.columns[41], \n",
        "df.columns[66], \n",
        "df.columns[67], \n",
        "df.columns[77], \n",
        "df.columns[78], \n",
        "df.columns[79], \n",
        "df.columns[85], \n",
        "df.columns[91], \n",
        "df.columns[92], \n",
        "df.columns[95]\n",
        "]\n",
        "Solvency = [df.columns[21], \n",
        "df.columns[74], \n",
        "df.columns[75], \n",
        "df.columns[80], \n",
        "df.columns[81], \n",
        "df.columns[82], \n",
        "df.columns[83]\n",
        "]\n",
        "Shareholder_value = [df.columns[16], \n",
        "df.columns[17], \n",
        "df.columns[18], \n",
        "df.columns[19], \n",
        "df.columns[20], \n",
        "df.columns[22], \n",
        "df.columns[23]\n",
        "]\n",
        "# print(\"Liquidity: {} \\nProfitability: {} \\nEfficiency: {} \\nLeverage: {} \\nSolvency: {} \\nShareholder Value: {}\".format(Liquidity,\n",
        "#                                                                                                                           Profitability,\n",
        "#                                                                                                                           Efficiency,\n",
        "#                                                                                                                           Leverage,\n",
        "#                                                                                                                           Solvency,\n",
        "#                                                                                                                           Shareholder_value))\n",
        "# Visualize the counts of each category\n",
        "import matplotlib.pyplot as plt\n",
        "import seaborn as sns\n",
        "import numpy as np\n",
        "\n",
        "Category = [Liquidity, Profitability, Efficiency, Leverage, Solvency, Shareholder_value]\n",
        "df_sum = pd.Series({'Liquidity': len(Liquidity),\n",
        "                    'Profitability': len(Profitability),\n",
        "                    'Efficiency': len(Efficiency),\n",
        "                    'Leverage': len(Leverage),\n",
        "                    'Solvency': len(Solvency),\n",
        "                    'Shareholder_value': len(Shareholder_value)})\n",
        "plt.pie(data=df_sum, x=df_sum, labels=df_sum.index, autopct='%1.1f%%')\n",
        "plt.xlabel('\\nAll Variable Categories in %', fontsize=15)\n",
        "plt.show()"
      ],
      "metadata": {
        "colab": {
          "base_uri": "https://localhost:8080/",
          "height": 285
        },
        "id": "_SMMBSuq7-h3",
        "outputId": "c802dbe2-7f6a-4d7c-a5ad-e5c82130ab2a"
      },
      "execution_count": null,
      "outputs": [
        {
          "output_type": "display_data",
          "data": {
            "text/plain": [
              "<Figure size 432x288 with 1 Axes>"
            ],
            "image/png": "[encoded data removed]"
          },
          "metadata": {}
        }
      ]
    },
    {
      "cell_type": "markdown",
      "source": [
        "# Data Preprocessing"
      ],
      "metadata": {
        "id": "2X5QLiFLMEvR"
      }
    },
    {
      "cell_type": "markdown",
      "source": [
        "## Missing Value Imputation\n",
        "No missing values."
      ],
      "metadata": {
        "id": "yb58zxgZCHXH"
      }
    },
    {
      "cell_type": "markdown",
      "source": [
        "## Data Partitioning\n",
        "Training : testing = 80:20. "
      ],
      "metadata": {
        "id": "JG9r2C06ogni"
      }
    },
    {
      "cell_type": "code",
      "source": [
        "# Import relevent packages\n",
        "# For the data partitioning\n",
        "from sklearn.model_selection import train_test_split\n",
        "# For mutial inforamtion values selection\n",
        "from sklearn.feature_selection import mutual_info_classif\n",
        "# For feature selection\n",
        "from sklearn.feature_selection import SelectKBest\n",
        "# For removal of high correlation\n",
        "from sklearn.feature_selection import VarianceThreshold"
      ],
      "metadata": {
        "id": "s3oGK8oNDLtK"
      },
      "execution_count": null,
      "outputs": []
    },
    {
      "cell_type": "code",
      "source": [
        "# Training and testing split\n",
        "X_train, X_test, y_train, y_test = train_test_split(\n",
        "    df.iloc[:, 1:],\n",
        "    df['Bankrupt?'],\n",
        "    test_size=0.2,\n",
        "    random_state=5\n",
        ")"
      ],
      "metadata": {
        "id": "psr9iikYpX4n"
      },
      "execution_count": null,
      "outputs": []
    },
    {
      "cell_type": "markdown",
      "source": [
        "## Variable Scaling\n",
        "Standardize the variables selected under the feature selection approach."
      ],
      "metadata": {
        "id": "LPOFSIwbHLar"
      }
    },
    {
      "cell_type": "code",
      "source": [
        "from sklearn.preprocessing import StandardScaler\n",
        "# Transform both X_train and X_test\n",
        "X_train_trans = StandardScaler().fit_transform(X_train)\n",
        "X_test_trans = StandardScaler().fit_transform(X_test)\n",
        "# # Assign columns\n",
        "X_train_trans = pd.DataFrame(X_train_trans)\n",
        "X_test_trans = pd.DataFrame(X_test_trans)\n",
        "X_train_trans.columns = X_train.columns\n",
        "X_test_trans.columns = X_test.columns"
      ],
      "metadata": {
        "id": "dGD6h6vC3ANI"
      },
      "execution_count": null,
      "outputs": []
    },
    {
      "cell_type": "markdown",
      "source": [
        "## Variables Reduction\n",
        "Reduce dimensionality by removing highly correlated variables."
      ],
      "metadata": {
        "id": "0XKToX1R54kN"
      }
    },
    {
      "cell_type": "code",
      "source": [
        "# Create a corelation matrix\n",
        "correlated_variables = set()\n",
        "correlation_matrix = df.drop('Net Income Flag', axis=1).iloc[:, 1:].corr()\n",
        "correlation_matrix.tail(5)"
      ],
      "metadata": {
        "colab": {
          "base_uri": "https://localhost:8080/",
          "height": 612
        },
        "id": "0-ME67Y07y2T",
        "outputId": "9ca62585-8f7f-4eb4-8d57-432d706253ef"
      },
      "execution_count": null,
      "outputs": [
        {
          "output_type": "execute_result",
          "data": {
            "text/plain": [
              "                                                    ROA(C) before interest and depreciation before interest  \\\n",
              "Net Income to Stockholder's Equity                                                           0.274287         \n",
              "Liability to Equity                                                                         -0.143629         \n",
              "Degree of Financial Leverage (DFL)                                                          -0.016575         \n",
              "Interest Coverage Ratio (Interest expense to EBIT)                                           0.010573         \n",
              "Equity to Liability                                                                          0.052416         \n",
              "\n",
              "                                                    ROA(A) before interest and % after tax  \\\n",
              "Net Income to Stockholder's Equity                                                0.291744   \n",
              "Liability to Equity                                                              -0.141039   \n",
              "Degree of Financial Leverage (DFL)                                               -0.011515   \n",
              "Interest Coverage Ratio (Interest expense to EBIT)                                0.013372   \n",
              "Equity to Liability                                                               0.057887   \n",
              "\n",
              "                                                    ROA(B) before interest and depreciation after tax  \\\n",
              "Net Income to Stockholder's Equity                                                           0.280617   \n",
              "Liability to Equity                                                                         -0.142838   \n",
              "Degree of Financial Leverage (DFL)                                                          -0.014663   \n",
              "Interest Coverage Ratio (Interest expense to EBIT)                                           0.011473   \n",
              "Equity to Liability                                                                          0.056430   \n",
              "\n",
              "                                                    Operating Gross Margin  \\\n",
              "Net Income to Stockholder's Equity                                0.075304   \n",
              "Liability to Equity                                              -0.085434   \n",
              "Degree of Financial Leverage (DFL)                               -0.011806   \n",
              "Interest Coverage Ratio (Interest expense to EBIT)               -0.001167   \n",
              "Equity to Liability                                               0.120029   \n",
              "\n",
              "                                                    Realized Sales Gross Margin  \\\n",
              "Net Income to Stockholder's Equity                                     0.074891   \n",
              "Liability to Equity                                                   -0.085407   \n",
              "Degree of Financial Leverage (DFL)                                    -0.011268   \n",
              "Interest Coverage Ratio (Interest expense to EBIT)                    -0.001158   \n",
              "Equity to Liability                                                    0.120196   \n",
              "\n",
              "                                                    Operating Profit Rate  \\\n",
              "Net Income to Stockholder's Equity                               0.006216   \n",
              "Liability to Equity                                              0.001541   \n",
              "Degree of Financial Leverage (DFL)                               0.000935   \n",
              "Interest Coverage Ratio (Interest expense to EBIT)               0.000393   \n",
              "Equity to Liability                                             -0.017071   \n",
              "\n",
              "                                                    Pre-tax net Interest Rate  \\\n",
              "Net Income to Stockholder's Equity                                   0.011343   \n",
              "Liability to Equity                                                 -0.004043   \n",
              "Degree of Financial Leverage (DFL)                                   0.000855   \n",
              "Interest Coverage Ratio (Interest expense to EBIT)                   0.000984   \n",
              "Equity to Liability                                                 -0.014559   \n",
              "\n",
              "                                                    After-tax net Interest Rate  \\\n",
              "Net Income to Stockholder's Equity                                     0.010648   \n",
              "Liability to Equity                                                   -0.004390   \n",
              "Degree of Financial Leverage (DFL)                                     0.000927   \n",
              "Interest Coverage Ratio (Interest expense to EBIT)                     0.000957   \n",
              "Equity to Liability                                                   -0.010900   \n",
              "\n",
              "                                                    Non-industry income and expenditure/revenue  \\\n",
              "Net Income to Stockholder's Equity                                                     0.007693   \n",
              "Liability to Equity                                                                   -0.011899   \n",
              "Degree of Financial Leverage (DFL)                                                    -0.000556   \n",
              "Interest Coverage Ratio (Interest expense to EBIT)                                     0.001024   \n",
              "Equity to Liability                                                                    0.012293   \n",
              "\n",
              "                                                    Continuous interest rate (after tax)  \\\n",
              "Net Income to Stockholder's Equity                                              0.011191   \n",
              "Liability to Equity                                                            -0.002996   \n",
              "Degree of Financial Leverage (DFL)                                              0.000774   \n",
              "Interest Coverage Ratio (Interest expense to EBIT)                              0.000798   \n",
              "Equity to Liability                                                            -0.011299   \n",
              "\n",
              "                                                    ...  \\\n",
              "Net Income to Stockholder's Equity                  ...   \n",
              "Liability to Equity                                 ...   \n",
              "Degree of Financial Leverage (DFL)                  ...   \n",
              "Interest Coverage Ratio (Interest expense to EBIT)  ...   \n",
              "Equity to Liability                                 ...   \n",
              "\n",
              "                                                    Liability-Assets Flag  \\\n",
              "Net Income to Stockholder's Equity                               0.192688   \n",
              "Liability to Equity                                             -0.229559   \n",
              "Degree of Financial Leverage (DFL)                              -0.001717   \n",
              "Interest Coverage Ratio (Interest expense to EBIT)              -0.000974   \n",
              "Equity to Liability                                             -0.027573   \n",
              "\n",
              "                                                    Net Income to Total Assets  \\\n",
              "Net Income to Stockholder's Equity                                    0.328492   \n",
              "Liability to Equity                                                  -0.159697   \n",
              "Degree of Financial Leverage (DFL)                                   -0.010463   \n",
              "Interest Coverage Ratio (Interest expense to EBIT)                    0.012746   \n",
              "Equity to Liability                                                   0.073916   \n",
              "\n",
              "                                                    Total assets to GNP price  \\\n",
              "Net Income to Stockholder's Equity                                  -0.040217   \n",
              "Liability to Equity                                                  0.021982   \n",
              "Degree of Financial Leverage (DFL)                                  -0.001881   \n",
              "Interest Coverage Ratio (Interest expense to EBIT)                   0.000239   \n",
              "Equity to Liability                                                  0.014871   \n",
              "\n",
              "                                                    No-credit Interval  \\\n",
              "Net Income to Stockholder's Equity                            0.000127   \n",
              "Liability to Equity                                          -0.003724   \n",
              "Degree of Financial Leverage (DFL)                           -0.008812   \n",
              "Interest Coverage Ratio (Interest expense to EBIT)            0.001027   \n",
              "Equity to Liability                                           0.050609   \n",
              "\n",
              "                                                    Gross Profit to Sales  \\\n",
              "Net Income to Stockholder's Equity                               0.075303   \n",
              "Liability to Equity                                             -0.085434   \n",
              "Degree of Financial Leverage (DFL)                              -0.011806   \n",
              "Interest Coverage Ratio (Interest expense to EBIT)              -0.001169   \n",
              "Equity to Liability                                              0.120027   \n",
              "\n",
              "                                                    Net Income to Stockholder's Equity  \\\n",
              "Net Income to Stockholder's Equity                                            1.000000   \n",
              "Liability to Equity                                                          -0.791836   \n",
              "Degree of Financial Leverage (DFL)                                           -0.000093   \n",
              "Interest Coverage Ratio (Interest expense to EBIT)                            0.005147   \n",
              "Equity to Liability                                                           0.029622   \n",
              "\n",
              "                                                    Liability to Equity  \\\n",
              "Net Income to Stockholder's Equity                            -0.791836   \n",
              "Liability to Equity                                            1.000000   \n",
              "Degree of Financial Leverage (DFL)                             0.002119   \n",
              "Interest Coverage Ratio (Interest expense to EBIT)             0.001487   \n",
              "Equity to Liability                                           -0.159654   \n",
              "\n",
              "                                                    Degree of Financial Leverage (DFL)  \\\n",
              "Net Income to Stockholder's Equity                                           -0.000093   \n",
              "Liability to Equity                                                           0.002119   \n",
              "Degree of Financial Leverage (DFL)                                            1.000000   \n",
              "Interest Coverage Ratio (Interest expense to EBIT)                            0.016513   \n",
              "Equity to Liability                                                          -0.016739   \n",
              "\n",
              "                                                    Interest Coverage Ratio (Interest expense to EBIT)  \\\n",
              "Net Income to Stockholder's Equity                                                           0.005147    \n",
              "Liability to Equity                                                                          0.001487    \n",
              "Degree of Financial Leverage (DFL)                                                           0.016513    \n",
              "Interest Coverage Ratio (Interest expense to EBIT)                                           1.000000    \n",
              "Equity to Liability                                                                         -0.008339    \n",
              "\n",
              "                                                    Equity to Liability  \n",
              "Net Income to Stockholder's Equity                             0.029622  \n",
              "Liability to Equity                                           -0.159654  \n",
              "Degree of Financial Leverage (DFL)                            -0.016739  \n",
              "Interest Coverage Ratio (Interest expense to EBIT)            -0.008339  \n",
              "Equity to Liability                                            1.000000  \n",
              "\n",
              "[5 rows x 94 columns]"
            ],
            "text/html": [
              "\n",
              "  <div id=\"df-42b12ecc-482f-4b34-98aa-0c476db8d031\">\n",
              "    <div class=\"colab-df-container\">\n",
              "      <div>\n",
              "<style scoped>\n",
              "    .dataframe tbody tr th:only-of-type {\n",
              "        vertical-align: middle;\n",
              "    }\n",
              "\n",
              "    .dataframe tbody tr th {\n",
              "        vertical-align: top;\n",
              "    }\n",
              "\n",
              "    .dataframe thead th {\n",
              "        text-align: right;\n",
              "    }\n",
              "</style>\n",
              "<table border=\"1\" class=\"dataframe\">\n",
              "  <thead>\n",
              "    <tr style=\"text-align: right;\">\n",
              "      <th></th>\n",
              "      <th>ROA(C) before interest and depreciation before interest</th>\n",
              "      <th>ROA(A) before interest and % after tax</th>\n",
              "      <th>ROA(B) before interest and depreciation after tax</th>\n",
              "      <th>Operating Gross Margin</th>\n",
              "      <th>Realized Sales Gross Margin</th>\n",
              "      <th>Operating Profit Rate</th>\n",
              "      <th>Pre-tax net Interest Rate</th>\n",
              "      <th>After-tax net Interest Rate</th>\n",
              "      <th>Non-industry income and expenditure/revenue</th>\n",
              "      <th>Continuous interest rate (after tax)</th>\n",
              "      <th>...</th>\n",
              "      <th>Liability-Assets Flag</th>\n",
              "      <th>Net Income to Total Assets</th>\n",
              "      <th>Total assets to GNP price</th>\n",
              "      <th>No-credit Interval</th>\n",
              "      <th>Gross Profit to Sales</th>\n",
              "      <th>Net Income to Stockholder's Equity</th>\n",
              "      <th>Liability to Equity</th>\n",
              "      <th>Degree of Financial Leverage (DFL)</th>\n",
              "      <th>Interest Coverage Ratio (Interest expense to EBIT)</th>\n",
              "      <th>Equity to Liability</th>\n",
              "    </tr>\n",
              "  </thead>\n",
              "  <tbody>\n",
              "    <tr>\n",
              "      <th>Net Income to Stockholder's Equity</th>\n",
              "      <td>0.274287</td>\n",
              "      <td>0.291744</td>\n",
              "      <td>0.280617</td>\n",
              "      <td>0.075304</td>\n",
              "      <td>0.074891</td>\n",
              "      <td>0.006216</td>\n",
              "      <td>0.011343</td>\n",
              "      <td>0.010648</td>\n",
              "      <td>0.007693</td>\n",
              "      <td>0.011191</td>\n",
              "      <td>...</td>\n",
              "      <td>0.192688</td>\n",
              "      <td>0.328492</td>\n",
              "      <td>-0.040217</td>\n",
              "      <td>0.000127</td>\n",
              "      <td>0.075303</td>\n",
              "      <td>1.000000</td>\n",
              "      <td>-0.791836</td>\n",
              "      <td>-0.000093</td>\n",
              "      <td>0.005147</td>\n",
              "      <td>0.029622</td>\n",
              "    </tr>\n",
              "    <tr>\n",
              "      <th>Liability to Equity</th>\n",
              "      <td>-0.143629</td>\n",
              "      <td>-0.141039</td>\n",
              "      <td>-0.142838</td>\n",
              "      <td>-0.085434</td>\n",
              "      <td>-0.085407</td>\n",
              "      <td>0.001541</td>\n",
              "      <td>-0.004043</td>\n",
              "      <td>-0.004390</td>\n",
              "      <td>-0.011899</td>\n",
              "      <td>-0.002996</td>\n",
              "      <td>...</td>\n",
              "      <td>-0.229559</td>\n",
              "      <td>-0.159697</td>\n",
              "      <td>0.021982</td>\n",
              "      <td>-0.003724</td>\n",
              "      <td>-0.085434</td>\n",
              "      <td>-0.791836</td>\n",
              "      <td>1.000000</td>\n",
              "      <td>0.002119</td>\n",
              "      <td>0.001487</td>\n",
              "      <td>-0.159654</td>\n",
              "    </tr>\n",
              "    <tr>\n",
              "      <th>Degree of Financial Leverage (DFL)</th>\n",
              "      <td>-0.016575</td>\n",
              "      <td>-0.011515</td>\n",
              "      <td>-0.014663</td>\n",
              "      <td>-0.011806</td>\n",
              "      <td>-0.011268</td>\n",
              "      <td>0.000935</td>\n",
              "      <td>0.000855</td>\n",
              "      <td>0.000927</td>\n",
              "      <td>-0.000556</td>\n",
              "      <td>0.000774</td>\n",
              "      <td>...</td>\n",
              "      <td>-0.001717</td>\n",
              "      <td>-0.010463</td>\n",
              "      <td>-0.001881</td>\n",
              "      <td>-0.008812</td>\n",
              "      <td>-0.011806</td>\n",
              "      <td>-0.000093</td>\n",
              "      <td>0.002119</td>\n",
              "      <td>1.000000</td>\n",
              "      <td>0.016513</td>\n",
              "      <td>-0.016739</td>\n",
              "    </tr>\n",
              "    <tr>\n",
              "      <th>Interest Coverage Ratio (Interest expense to EBIT)</th>\n",
              "      <td>0.010573</td>\n",
              "      <td>0.013372</td>\n",
              "      <td>0.011473</td>\n",
              "      <td>-0.001167</td>\n",
              "      <td>-0.001158</td>\n",
              "      <td>0.000393</td>\n",
              "      <td>0.000984</td>\n",
              "      <td>0.000957</td>\n",
              "      <td>0.001024</td>\n",
              "      <td>0.000798</td>\n",
              "      <td>...</td>\n",
              "      <td>-0.000974</td>\n",
              "      <td>0.012746</td>\n",
              "      <td>0.000239</td>\n",
              "      <td>0.001027</td>\n",
              "      <td>-0.001169</td>\n",
              "      <td>0.005147</td>\n",
              "      <td>0.001487</td>\n",
              "      <td>0.016513</td>\n",
              "      <td>1.000000</td>\n",
              "      <td>-0.008339</td>\n",
              "    </tr>\n",
              "    <tr>\n",
              "      <th>Equity to Liability</th>\n",
              "      <td>0.052416</td>\n",
              "      <td>0.057887</td>\n",
              "      <td>0.056430</td>\n",
              "      <td>0.120029</td>\n",
              "      <td>0.120196</td>\n",
              "      <td>-0.017071</td>\n",
              "      <td>-0.014559</td>\n",
              "      <td>-0.010900</td>\n",
              "      <td>0.012293</td>\n",
              "      <td>-0.011299</td>\n",
              "      <td>...</td>\n",
              "      <td>-0.027573</td>\n",
              "      <td>0.073916</td>\n",
              "      <td>0.014871</td>\n",
              "      <td>0.050609</td>\n",
              "      <td>0.120027</td>\n",
              "      <td>0.029622</td>\n",
              "      <td>-0.159654</td>\n",
              "      <td>-0.016739</td>\n",
              "      <td>-0.008339</td>\n",
              "      <td>1.000000</td>\n",
              "    </tr>\n",
              "  </tbody>\n",
              "</table>\n",
              "<p>5 rows × 94 columns</p>\n",
              "</div>\n",
              "      <button class=\"colab-df-convert\" onclick=\"convertToInteractive('df-42b12ecc-482f-4b34-98aa-0c476db8d031')\"\n",
              "              title=\"Convert this dataframe to an interactive table.\"\n",
              "              style=\"display:none;\">\n",
              "        \n",
              "  <svg xmlns=\"http://www.w3.org/2000/svg\" height=\"24px\"viewBox=\"0 0 24 24\"\n",
              "       width=\"24px\">\n",
              "    <path d=\"M0 0h24v24H0V0z\" fill=\"none\"/>\n",
              "    <path d=\"M18.56 5.44l.94 2.06.94-2.06 2.06-.94-2.06-.94-.94-2.06-.94 2.06-2.06.94zm-11 1L8.5 8.5l.94-2.06 2.06-.94-2.06-.94L8.5 2.5l-.94 2.06-2.06.94zm10 10l.94 2.06.94-2.06 2.06-.94-2.06-.94-.94-2.06-.94 2.06-2.06.94z\"/><path d=\"M17.41 7.96l-1.37-1.37c-.4-.4-.92-.59-1.43-.59-.52 0-1.04.2-1.43.59L10.3 9.45l-7.72 7.72c-.78.78-.78 2.05 0 2.83L4 21.41c.39.39.9.59 1.41.59.51 0 1.02-.2 1.41-.59l7.78-7.78 2.81-2.81c.8-.78.8-2.07 0-2.86zM5.41 20L4 18.59l7.72-7.72 1.47 1.35L5.41 20z\"/>\n",
              "  </svg>\n",
              "      </button>\n",
              "      \n",
              "  <style>\n",
              "    .colab-df-container {\n",
              "      display:flex;\n",
              "      flex-wrap:wrap;\n",
              "      gap: 12px;\n",
              "    }\n",
              "\n",
              "    .colab-df-convert {\n",
              "      background-color: #E8F0FE;\n",
              "      border: none;\n",
              "      border-radius: 50%;\n",
              "      cursor: pointer;\n",
              "      display: none;\n",
              "      fill: #1967D2;\n",
              "      height: 32px;\n",
              "      padding: 0 0 0 0;\n",
              "      width: 32px;\n",
              "    }\n",
              "\n",
              "    .colab-df-convert:hover {\n",
              "      background-color: #E2EBFA;\n",
              "      box-shadow: 0px 1px 2px rgba(60, 64, 67, 0.3), 0px 1px 3px 1px rgba(60, 64, 67, 0.15);\n",
              "      fill: #174EA6;\n",
              "    }\n",
              "\n",
              "    [theme=dark] .colab-df-convert {\n",
              "      background-color: #3B4455;\n",
              "      fill: #D2E3FC;\n",
              "    }\n",
              "\n",
              "    [theme=dark] .colab-df-convert:hover {\n",
              "      background-color: #434B5C;\n",
              "      box-shadow: 0px 1px 3px 1px rgba(0, 0, 0, 0.15);\n",
              "      filter: drop-shadow(0px 1px 2px rgba(0, 0, 0, 0.3));\n",
              "      fill: #FFFFFF;\n",
              "    }\n",
              "  </style>\n",
              "\n",
              "      <script>\n",
              "        const buttonEl =\n",
              "          document.querySelector('#df-42b12ecc-482f-4b34-98aa-0c476db8d031 button.colab-df-convert');\n",
              "        buttonEl.style.display =\n",
              "          google.colab.kernel.accessAllowed ? 'block' : 'none';\n",
              "\n",
              "        async function convertToInteractive(key) {\n",
              "          const element = document.querySelector('#df-42b12ecc-482f-4b34-98aa-0c476db8d031');\n",
              "          const dataTable =\n",
              "            await google.colab.kernel.invokeFunction('convertToInteractive',\n",
              "                                                     [key], {});\n",
              "          if (!dataTable) return;\n",
              "\n",
              "          const docLinkHtml = 'Like what you see? Visit the ' +\n",
              "            '<a target=\"_blank\" href=https://colab.research.google.com/notebooks/data_table.ipynb>data table notebook</a>'\n",
              "            + ' to learn more about interactive tables.';\n",
              "          element.innerHTML = '';\n",
              "          dataTable['output_type'] = 'display_data';\n",
              "          await google.colab.output.renderOutput(dataTable, element);\n",
              "          const docLink = document.createElement('div');\n",
              "          docLink.innerHTML = docLinkHtml;\n",
              "          element.appendChild(docLink);\n",
              "        }\n",
              "      </script>\n",
              "    </div>\n",
              "  </div>\n",
              "  "
            ]
          },
          "metadata": {},
          "execution_count": 13
        }
      ]
    },
    {
      "cell_type": "code",
      "source": [
        "# Visualize the correlation matrix in a heatmap\n",
        "mask = np.zeros_like(correlation_matrix)\n",
        "mask[np.triu_indices_from(mask)] = True\n",
        "with sns.axes_style('white'):\n",
        "    f, ax = plt.subplots(figsize=(15, 15))\n",
        "    ax = sns.heatmap(correlation_matrix, mask=mask, vmax=.3, square=True,\n",
        "                     xticklabels='', yticklabels='', cmap='coolwarm')"
      ],
      "metadata": {
        "colab": {
          "base_uri": "https://localhost:8080/",
          "height": 852
        },
        "id": "yXRVn2K5Q4KS",
        "outputId": "b6676bfc-05db-46ba-b2be-889dc5c06425"
      },
      "execution_count": null,
      "outputs": [
        {
          "output_type": "display_data",
          "data": {
            "text/plain": [
              "<Figure size 1080x1080 with 2 Axes>"
            ],
            "image/png": "[encoded data removed]"
          },
          "metadata": {}
        }
      ]
    },
    {
      "cell_type": "code",
      "source": [
        "# Loop through the columns of the correlation matrix\n",
        "# Exclude those variables with high correlation with another\n",
        "for i in range(len(correlation_matrix.columns)):\n",
        "  for j in range(i):\n",
        "    # We cansider a correlarion of greater than or equal to 0.3 high correlation\n",
        "    if abs(correlation_matrix.iloc[i,j]) >= 0.3:\n",
        "      column_name = correlation_matrix.columns[i]\n",
        "      correlated_variables.add(column_name)\n",
        "# Print the list of correlated variables\n",
        "# correlated_variables\n",
        "# Drop these correlated variables from the training and testing\n",
        "X_train_trans.drop(labels=correlated_variables, axis=1, inplace=True)\n",
        "X_test_trans.drop(labels=correlated_variables, axis=1, inplace=True)\n",
        "# Now show the columns of df\n",
        "# df.columns"
      ],
      "metadata": {
        "id": "sYGTM9q3_Jf8"
      },
      "execution_count": null,
      "outputs": []
    },
    {
      "cell_type": "markdown",
      "source": [
        "## Feature Selection\n",
        "Rank the variables according to their impacts on the target variables."
      ],
      "metadata": {
        "id": "mfMLOR64CPXb"
      }
    },
    {
      "cell_type": "code",
      "source": [
        "# From the training data, determine the mutual value of \n",
        "# the between the independent variables and the \n",
        "# trarget variable\n",
        "# The smaller the mutual value, the less explanatory power between \n",
        "# the independent and the target is \n",
        "mutual_value = mutual_info_classif(X_train_trans, y_train)\n",
        "# mutual_calue"
      ],
      "metadata": {
        "id": "wlizNfbRq8wn"
      },
      "execution_count": null,
      "outputs": []
    },
    {
      "cell_type": "code",
      "source": [
        "# Rank the independent in terms of their mutual values\n",
        "mutual_value = pd.Series(mutual_value, index=X_train_trans.columns)\n",
        "mutual_value_sorted = mutual_value.sort_values(ascending=False)\n",
        "mutual_value_sorted.plot.bar(figsize=(10,5), color='red')\n",
        "plt.show()\n",
        "# Select top 5 features\n",
        "selection = SelectKBest(mutual_info_classif, k=5).fit(X_train_trans, y_train)\n",
        "# Present the selected variabels\n",
        "selected_variables = X_train_trans.columns[selection.get_support()]\n",
        "print('\\n')\n",
        "selected_variables"
      ],
      "metadata": {
        "colab": {
          "base_uri": "https://localhost:8080/",
          "height": 712
        },
        "id": "hbBVg1Gzr2Jd",
        "outputId": "1775aa55-2b12-4674-bfcf-5d78ecefbad3"
      },
      "execution_count": null,
      "outputs": [
        {
          "output_type": "display_data",
          "data": {
            "text/plain": [
              "<Figure size 720x360 with 1 Axes>"
            ],
            "image/png": "[encoded data removed]"
          },
          "metadata": {
            "needs_background": "light"
          }
        },
        {
          "output_type": "stream",
          "name": "stdout",
          "text": [
            "\n",
            "\n"
          ]
        },
        {
          "output_type": "execute_result",
          "data": {
            "text/plain": [
              "Index(['ROA(C) before interest and depreciation before interest',\n",
              "       'Interest Expense Ratio', 'Debt ratio %',\n",
              "       'Degree of Financial Leverage (DFL)',\n",
              "       'Interest Coverage Ratio (Interest expense to EBIT)'],\n",
              "      dtype='object')"
            ]
          },
          "metadata": {},
          "execution_count": 17
        }
      ]
    },
    {
      "cell_type": "code",
      "source": [
        "# From section Variable Summarization\n",
        "dict_category = {\n",
        "'Liquidity': ['Cash flow rate', 'Cash Reinvestment %', 'Current Ratio', 'Quick Ratio', 'Inventory and accounts receivable/Net value', 'Total Asset Turnover', 'Accounts Receivable Turnover', 'Average Collection Days', 'Inventory Turnover Rate (times)', 'Fixed Assets Turnover Frequency', 'Net Worth Turnover Rate (times)', 'Working Capital to Total Assets', 'Quick Assets/Total Assets', 'Current Assets/Total Assets', 'Cash/Total Assets', 'Quick Assets/Current Liability', 'Cash/Current Liability', 'Current Liability to Assets', 'Operating Funds to Liability', 'Inventory/Working Capital', 'Inventory/Current Liability', 'Current Liabilities/Liability', 'Working Capital/Equity', 'Quick Asset Turnover Rate', 'Working capitcal Turnover Rate', 'Current Liability to Current Assets', 'No-credit Interval', 'Interest Coverage Ratio (Interest expense to EBIT)'], \n",
        "'Profitability': ['Operating Gross Margin', 'Realized Sales Gross Margin', 'Operating Profit Rate', 'Pre-tax net Interest Rate', 'After-tax net Interest Rate', 'Non-industry income and expenditure/revenue', 'Continuous interest rate (after tax)', 'Operating Expense Rate', 'Research and development expense rate', 'Tax rate (A)', 'Realized Sales Gross Profit Growth Rate', 'Operating Profit Growth Rate', 'After-tax Net Profit Growth Rate', 'Regular Net Profit Growth Rate', 'Continuous Net Profit Growth Rate', 'Interest Expense Ratio', 'Revenue per person', 'Retained Earnings to Total Assets', 'Total income/Total expense', 'Total expense/Assets', 'Gross Profit to Sales', \"Net Income to Stockholder's Equity\", 'Net Income Flag'], \n",
        "'Efficiency': ['ROA(C) before interest and depreciation before interest', 'ROA(A) before interest and % after tax', 'ROA(B) before interest and depreciation after tax', 'Total Asset Growth Rate', 'Net Value Growth Rate', 'Total Asset Return Growth Rate Ratio', 'Operating profit/Paid-in capital', 'Net profit before tax/Paid-in capital', 'Operating profit per person', 'Allocation rate per person', 'Current Asset Turnover Rate', 'Fixed Assets to Assets', 'Net Income to Total Assets', 'Total assets to GNP price'], \n",
        "'Leverage': ['Interest-bearing debt interest rate', 'Total debt/Total net worth', 'Debt ratio %', 'Net worth/Assets', 'Long-term fund suitability ratio (A)', 'Borrowing dependency', 'Contingent liabilities/Net worth', 'Current Liabilities/Equity', 'Long-term Liability to Current Assets', 'Current Liability to Liability', 'Current Liability to Equity', 'Equity to Long-term Liability', 'Liability-Assets Flag', 'Liability to Equity', 'Degree of Financial Leverage (DFL)', 'Equity to Liability'], \n",
        "'Solvency': ['Revenue Per Share (Yuan ¥)', 'Cash Turnover Rate', 'Cash Flow to Sales', 'Cash Flow to Total Assets', 'Cash Flow to Liability', 'CFO to Assets', 'Cash Flow to Equity'], \n",
        "'Shareholder Value': ['Net Value Per Share (B)', 'Net Value Per Share (A)', 'Net Value Per Share (C)', 'Persistent EPS in the Last Four Seasons', 'Cash Flow Per Share', 'Operating Profit Per Share (Yuan ¥)', 'Per Share Net profit before tax (Yuan ¥)']\n",
        "}\n",
        "\n",
        "# For the top mutual variables, summarize in category\n",
        "series = list(selected_variables)\n",
        "dict_mutual = {item: 0 for item in dict_category.keys()}\n",
        "print('List of selected variables:')\n",
        "for key, value in dict_category.items():\n",
        "  for element in series:\n",
        "    if element in value:\n",
        "      print(element)\n",
        "      dict_mutual[key] += 1 \n",
        "print('\\n')\n",
        "\n",
        "df_mutual = pd.Series(dict_mutual)\n",
        "df_mutual = df_mutual[df_mutual>0]\n",
        "plt.pie(data=df_mutual, x=df_mutual, labels=df_mutual.index, autopct='%1.1f%%')\n",
        "plt.xlabel('\\nTop Mutual Value Categories in %', fontsize=15)\n",
        "plt.show()\n",
        "\n",
        "# By visualizing the top mutual value categories in %, we can see that we have diversified selected variables\n",
        "# in terms of Z score variable categories\n",
        "# Note that shareholder value is not one of the Z-score variable "
      ],
      "metadata": {
        "colab": {
          "base_uri": "https://localhost:8080/",
          "height": 430
        },
        "id": "3_S_FduSEY2G",
        "outputId": "a60dca39-a9ab-4cde-eba6-936c5650207b"
      },
      "execution_count": null,
      "outputs": [
        {
          "output_type": "stream",
          "name": "stdout",
          "text": [
            "List of selected variables:\n",
            "Interest Coverage Ratio (Interest expense to EBIT)\n",
            "Interest Expense Ratio\n",
            "ROA(C) before interest and depreciation before interest\n",
            "Debt ratio %\n",
            "Degree of Financial Leverage (DFL)\n",
            "\n",
            "\n"
          ]
        },
        {
          "output_type": "display_data",
          "data": {
            "text/plain": [
              "<Figure size 432x288 with 1 Axes>"
            ],
            "image/png": "[encoded data removed]"
          },
          "metadata": {}
        }
      ]
    },
    {
      "cell_type": "markdown",
      "source": [
        "# Data Visualization\n",
        "Visualize the relationship of the key variables with the target variable, using Mosaic Plot."
      ],
      "metadata": {
        "id": "hxRtNfQqHLk5"
      }
    },
    {
      "cell_type": "code",
      "source": [
        "# Apply selected variables\n",
        "X_train_trans = X_train_trans[selected_variables]\n",
        "X_test_trans = X_test_trans[selected_variables]\n",
        "# Group X_train and y_train together\n",
        "y_train = y_train.reset_index(drop=True)\n",
        "df_selected = pd.concat([y_train, X_train_trans], axis=1)\n",
        "df_selected.head(2)"
      ],
      "metadata": {
        "id": "99l609zLHtru",
        "colab": {
          "base_uri": "https://localhost:8080/",
          "height": 173
        },
        "outputId": "c75931da-93d2-46cd-e9e4-dbae69dc3480"
      },
      "execution_count": null,
      "outputs": [
        {
          "output_type": "execute_result",
          "data": {
            "text/plain": [
              "   Bankrupt?  ROA(C) before interest and depreciation before interest  \\\n",
              "0          0                                           1.248061         \n",
              "1          0                                           1.223028         \n",
              "\n",
              "   Interest Expense Ratio  Debt ratio %  Degree of Financial Leverage (DFL)  \\\n",
              "0               -0.023736     -0.382395                           -0.055069   \n",
              "1               -0.020355      0.517299                           -0.054344   \n",
              "\n",
              "   Interest Coverage Ratio (Interest expense to EBIT)  \n",
              "0                                          -0.007888   \n",
              "1                                          -0.005288   "
            ],
            "text/html": [
              "\n",
              "  <div id=\"df-fcb17c0d-a236-4dd4-bef3-4f1e1cb5d86a\">\n",
              "    <div class=\"colab-df-container\">\n",
              "      <div>\n",
              "<style scoped>\n",
              "    .dataframe tbody tr th:only-of-type {\n",
              "        vertical-align: middle;\n",
              "    }\n",
              "\n",
              "    .dataframe tbody tr th {\n",
              "        vertical-align: top;\n",
              "    }\n",
              "\n",
              "    .dataframe thead th {\n",
              "        text-align: right;\n",
              "    }\n",
              "</style>\n",
              "<table border=\"1\" class=\"dataframe\">\n",
              "  <thead>\n",
              "    <tr style=\"text-align: right;\">\n",
              "      <th></th>\n",
              "      <th>Bankrupt?</th>\n",
              "      <th>ROA(C) before interest and depreciation before interest</th>\n",
              "      <th>Interest Expense Ratio</th>\n",
              "      <th>Debt ratio %</th>\n",
              "      <th>Degree of Financial Leverage (DFL)</th>\n",
              "      <th>Interest Coverage Ratio (Interest expense to EBIT)</th>\n",
              "    </tr>\n",
              "  </thead>\n",
              "  <tbody>\n",
              "    <tr>\n",
              "      <th>0</th>\n",
              "      <td>0</td>\n",
              "      <td>1.248061</td>\n",
              "      <td>-0.023736</td>\n",
              "      <td>-0.382395</td>\n",
              "      <td>-0.055069</td>\n",
              "      <td>-0.007888</td>\n",
              "    </tr>\n",
              "    <tr>\n",
              "      <th>1</th>\n",
              "      <td>0</td>\n",
              "      <td>1.223028</td>\n",
              "      <td>-0.020355</td>\n",
              "      <td>0.517299</td>\n",
              "      <td>-0.054344</td>\n",
              "      <td>-0.005288</td>\n",
              "    </tr>\n",
              "  </tbody>\n",
              "</table>\n",
              "</div>\n",
              "      <button class=\"colab-df-convert\" onclick=\"convertToInteractive('df-fcb17c0d-a236-4dd4-bef3-4f1e1cb5d86a')\"\n",
              "              title=\"Convert this dataframe to an interactive table.\"\n",
              "              style=\"display:none;\">\n",
              "        \n",
              "  <svg xmlns=\"http://www.w3.org/2000/svg\" height=\"24px\"viewBox=\"0 0 24 24\"\n",
              "       width=\"24px\">\n",
              "    <path d=\"M0 0h24v24H0V0z\" fill=\"none\"/>\n",
              "    <path d=\"M18.56 5.44l.94 2.06.94-2.06 2.06-.94-2.06-.94-.94-2.06-.94 2.06-2.06.94zm-11 1L8.5 8.5l.94-2.06 2.06-.94-2.06-.94L8.5 2.5l-.94 2.06-2.06.94zm10 10l.94 2.06.94-2.06 2.06-.94-2.06-.94-.94-2.06-.94 2.06-2.06.94z\"/><path d=\"M17.41 7.96l-1.37-1.37c-.4-.4-.92-.59-1.43-.59-.52 0-1.04.2-1.43.59L10.3 9.45l-7.72 7.72c-.78.78-.78 2.05 0 2.83L4 21.41c.39.39.9.59 1.41.59.51 0 1.02-.2 1.41-.59l7.78-7.78 2.81-2.81c.8-.78.8-2.07 0-2.86zM5.41 20L4 18.59l7.72-7.72 1.47 1.35L5.41 20z\"/>\n",
              "  </svg>\n",
              "      </button>\n",
              "      \n",
              "  <style>\n",
              "    .colab-df-container {\n",
              "      display:flex;\n",
              "      flex-wrap:wrap;\n",
              "      gap: 12px;\n",
              "    }\n",
              "\n",
              "    .colab-df-convert {\n",
              "      background-color: #E8F0FE;\n",
              "      border: none;\n",
              "      border-radius: 50%;\n",
              "      cursor: pointer;\n",
              "      display: none;\n",
              "      fill: #1967D2;\n",
              "      height: 32px;\n",
              "      padding: 0 0 0 0;\n",
              "      width: 32px;\n",
              "    }\n",
              "\n",
              "    .colab-df-convert:hover {\n",
              "      background-color: #E2EBFA;\n",
              "      box-shadow: 0px 1px 2px rgba(60, 64, 67, 0.3), 0px 1px 3px 1px rgba(60, 64, 67, 0.15);\n",
              "      fill: #174EA6;\n",
              "    }\n",
              "\n",
              "    [theme=dark] .colab-df-convert {\n",
              "      background-color: #3B4455;\n",
              "      fill: #D2E3FC;\n",
              "    }\n",
              "\n",
              "    [theme=dark] .colab-df-convert:hover {\n",
              "      background-color: #434B5C;\n",
              "      box-shadow: 0px 1px 3px 1px rgba(0, 0, 0, 0.15);\n",
              "      filter: drop-shadow(0px 1px 2px rgba(0, 0, 0, 0.3));\n",
              "      fill: #FFFFFF;\n",
              "    }\n",
              "  </style>\n",
              "\n",
              "      <script>\n",
              "        const buttonEl =\n",
              "          document.querySelector('#df-fcb17c0d-a236-4dd4-bef3-4f1e1cb5d86a button.colab-df-convert');\n",
              "        buttonEl.style.display =\n",
              "          google.colab.kernel.accessAllowed ? 'block' : 'none';\n",
              "\n",
              "        async function convertToInteractive(key) {\n",
              "          const element = document.querySelector('#df-fcb17c0d-a236-4dd4-bef3-4f1e1cb5d86a');\n",
              "          const dataTable =\n",
              "            await google.colab.kernel.invokeFunction('convertToInteractive',\n",
              "                                                     [key], {});\n",
              "          if (!dataTable) return;\n",
              "\n",
              "          const docLinkHtml = 'Like what you see? Visit the ' +\n",
              "            '<a target=\"_blank\" href=https://colab.research.google.com/notebooks/data_table.ipynb>data table notebook</a>'\n",
              "            + ' to learn more about interactive tables.';\n",
              "          element.innerHTML = '';\n",
              "          dataTable['output_type'] = 'display_data';\n",
              "          await google.colab.output.renderOutput(dataTable, element);\n",
              "          const docLink = document.createElement('div');\n",
              "          docLink.innerHTML = docLinkHtml;\n",
              "          element.appendChild(docLink);\n",
              "        }\n",
              "      </script>\n",
              "    </div>\n",
              "  </div>\n",
              "  "
            ]
          },
          "metadata": {},
          "execution_count": 19
        }
      ]
    },
    {
      "cell_type": "markdown",
      "source": [
        "## Key Variable one"
      ],
      "metadata": {
        "id": "ldTDxJwK5liP"
      }
    },
    {
      "cell_type": "code",
      "source": [
        "# DataFrame for visualization\n",
        "df_visual = df_selected.copy()\n",
        "# Import the graphing package\n",
        "from statsmodels.graphics.mosaicplot import mosaic\n",
        "# Divide target variable into ten intervals\n",
        "series_cut1 = pd.cut(df_visual.iloc[:,1], 10)\n",
        "df_visual['Cut1'] = series_cut1\n",
        "# Save data to a crosstable\n",
        "crosstable_1 = pd.crosstab(df_visual['Cut1'], df_visual['Bankrupt?'])\n",
        "# Store data for the Mosaic function\n",
        "data = {(str(k), '0'): crosstable_1.T[k][0] for k in crosstable_1.T.columns}\n",
        "data2 = {(str(k), '1'): crosstable_1.T[k][1] for k in crosstable_1.T.columns}\n",
        "data.update(data2)\n",
        "# Set combinations (blocks in the Mosaic plot)\n",
        "combinations1 = [(str(k), '0') for k in crosstable_1.T.columns]\n",
        "combinations2 = [(str(k), '1') for k in crosstable_1.T.columns]\n",
        "# Ajust properties - colors\n",
        "props = {}\n",
        "for j in combinations1:\n",
        "   props[j] = {'color': 'grey'}\n",
        "\n",
        "for i in combinations2:\n",
        "   props[i] = {'color': 'red'}\n",
        "# Adjust labelizer - labels\n",
        "labels = {l: '' for l in combinations1}\n",
        "labels2 = {l: '' for l in combinations2}\n",
        "labels.update(labels2)\n",
        "lab = lambda n: labels[n]\n",
        "# Plot the Mosaic plot\n",
        "print('Mosaic Plot of {} v.s. Bankrupcy \\n'.format(df_selected.columns[1]))\n",
        "mosaic(data, gap=0.02, axes_label=True, properties=props, labelizer=lab, label_rotation=45)\n",
        "plt.show()"
      ],
      "metadata": {
        "id": "E68y-aanLBkb",
        "colab": {
          "base_uri": "https://localhost:8080/",
          "height": 413
        },
        "outputId": "6273f817-b268-46e9-daef-6a8d176f58fe"
      },
      "execution_count": null,
      "outputs": [
        {
          "output_type": "stream",
          "name": "stderr",
          "text": [
            "/usr/local/lib/python3.7/dist-packages/statsmodels/tools/_testing.py:19: FutureWarning: pandas.util.testing is deprecated. Use the functions in the public API at pandas.testing instead.\n",
            "  import pandas.util.testing as tm\n"
          ]
        },
        {
          "output_type": "stream",
          "name": "stdout",
          "text": [
            "Mosaic Plot of ROA(C) before interest and depreciation before interest v.s. Bankrupcy \n",
            "\n"
          ]
        },
        {
          "output_type": "display_data",
          "data": {
            "text/plain": [
              "<Figure size 432x288 with 3 Axes>"
            ],
            "image/png": "[encoded data removed]"
          },
          "metadata": {
            "needs_background": "light"
          }
        }
      ]
    },
    {
      "cell_type": "markdown",
      "source": [
        "## Key Variable two"
      ],
      "metadata": {
        "id": "uC9KTXV_5tz3"
      }
    },
    {
      "cell_type": "code",
      "source": [
        "# Divide target variable into ten intervals\n",
        "series_cut2 = pd.cut(df_visual.iloc[:,2], 10)\n",
        "df_visual['Cut2'] = series_cut2\n",
        "# Save data to a crosstable\n",
        "crosstable_1 = pd.crosstab(df_visual['Cut2'], df_visual['Bankrupt?'])\n",
        "# Store data for the Mosaic function\n",
        "data = {(str(k), '0'): crosstable_1.T[k][0] for k in crosstable_1.T.columns}\n",
        "data2 = {(str(k), '1'): crosstable_1.T[k][1] for k in crosstable_1.T.columns}\n",
        "data.update(data2)\n",
        "# Set combinations (blocks in the Mosaic plot)\n",
        "combinations1 = [(str(k), '0') for k in crosstable_1.T.columns]\n",
        "combinations2 = [(str(k), '1') for k in crosstable_1.T.columns]\n",
        "# Ajust properties - colors\n",
        "props = {}\n",
        "for j in combinations1:\n",
        "   props[j] = {'color': 'grey'}\n",
        "\n",
        "for i in combinations2:\n",
        "   props[i] = {'color': 'red'}\n",
        "# Adjust labelizer - labels\n",
        "labels = {l: '' for l in combinations1}\n",
        "labels2 = {l: '' for l in combinations2}\n",
        "labels.update(labels2)\n",
        "lab = lambda n: labels[n]\n",
        "# Plot the Mosaic plot\n",
        "print('Mosaic Plot of {} v.s. Bankrupcy \\n'.format(df_selected.columns[2]))\n",
        "mosaic(data, gap=0.02, axes_label=True, properties=props, labelizer=lab, label_rotation=45)\n",
        "plt.show()"
      ],
      "metadata": {
        "colab": {
          "base_uri": "https://localhost:8080/",
          "height": 367
        },
        "id": "vLv1cZAL0f4F",
        "outputId": "0cd83060-48a1-4170-9937-de5324fcf2a9"
      },
      "execution_count": null,
      "outputs": [
        {
          "output_type": "stream",
          "name": "stdout",
          "text": [
            "Mosaic Plot of Interest Expense Ratio v.s. Bankrupcy \n",
            "\n"
          ]
        },
        {
          "output_type": "display_data",
          "data": {
            "text/plain": [
              "<Figure size 432x288 with 3 Axes>"
            ],
            "image/png": "[encoded data removed]"
          },
          "metadata": {
            "needs_background": "light"
          }
        }
      ]
    },
    {
      "cell_type": "markdown",
      "source": [
        "## Key Variable Three"
      ],
      "metadata": {
        "id": "utmLO7L-5zDr"
      }
    },
    {
      "cell_type": "code",
      "source": [
        "# Divide target variable into ten intervals\n",
        "series_cut3 = pd.cut(df_visual.iloc[:,3], 10)\n",
        "df_visual['Cut3'] = series_cut3\n",
        "# Save data to a crosstable\n",
        "crosstable_1 = pd.crosstab(df_visual['Cut3'], df_visual['Bankrupt?'])\n",
        "# Store data for the Mosaic function\n",
        "data = {(str(k), '0'): crosstable_1.T[k][0] for k in crosstable_1.T.columns}\n",
        "data2 = {(str(k), '1'): crosstable_1.T[k][1] for k in crosstable_1.T.columns}\n",
        "data.update(data2)\n",
        "# Set combinations (blocks in the Mosaic plot)\n",
        "combinations1 = [(str(k), '0') for k in crosstable_1.T.columns]\n",
        "combinations2 = [(str(k), '1') for k in crosstable_1.T.columns]\n",
        "# Ajust properties - colors\n",
        "props = {}\n",
        "for j in combinations1:\n",
        "   props[j] = {'color': 'grey'}\n",
        "\n",
        "for i in combinations2:\n",
        "   props[i] = {'color': 'red'}\n",
        "# Adjust labelizer - labels\n",
        "labels = {l: '' for l in combinations1}\n",
        "labels2 = {l: '' for l in combinations2}\n",
        "labels.update(labels2)\n",
        "lab = lambda n: labels[n]\n",
        "# Plot the Mosaic plot\n",
        "print('Mosaic Plot of {} v.s. Bankrupcy \\n'.format(df_selected.columns[3]))\n",
        "mosaic(data, gap=0.02, axes_label=True, properties=props, labelizer=lab, label_rotation=45)\n",
        "plt.show()"
      ],
      "metadata": {
        "colab": {
          "base_uri": "https://localhost:8080/",
          "height": 490
        },
        "id": "-SScqn8J0_s8",
        "outputId": "05c1d3c8-3f81-480f-e759-18f0fca27b73"
      },
      "execution_count": null,
      "outputs": [
        {
          "output_type": "stream",
          "name": "stdout",
          "text": [
            "Mosaic Plot of Debt ratio % v.s. Bankrupcy \n",
            "\n"
          ]
        },
        {
          "output_type": "stream",
          "name": "stderr",
          "text": [
            "/usr/local/lib/python3.7/dist-packages/pandas/core/reshape/pivot.py:188: SettingWithCopyWarning: \n",
            "A value is trying to be set on a copy of a slice from a DataFrame.\n",
            "Try using .loc[row_indexer,col_indexer] = value instead\n",
            "\n",
            "See the caveats in the documentation: https://pandas.pydata.org/pandas-docs/stable/user_guide/indexing.html#returning-a-view-versus-a-copy\n",
            "  agged[v] = maybe_downcast_to_dtype(agged[v], data[v].dtype)\n"
          ]
        },
        {
          "output_type": "display_data",
          "data": {
            "text/plain": [
              "<Figure size 432x288 with 3 Axes>"
            ],
            "image/png": "[encoded data removed]"
          },
          "metadata": {
            "needs_background": "light"
          }
        }
      ]
    },
    {
      "cell_type": "markdown",
      "source": [
        "## Key Variable Four"
      ],
      "metadata": {
        "id": "07TYbgKe54J2"
      }
    },
    {
      "cell_type": "code",
      "source": [
        "# Divide target variable into ten intervals\n",
        "series_cut4 = pd.cut(df_visual.iloc[:,4], 10)\n",
        "df_visual['Cut4'] = series_cut4\n",
        "# Save data to a crosstable\n",
        "crosstable_1 = pd.crosstab(df_visual['Cut4'], df_visual['Bankrupt?'])\n",
        "# Store data for the Mosaic function\n",
        "data = {(str(k), '0'): crosstable_1.T[k][0] for k in crosstable_1.T.columns}\n",
        "data2 = {(str(k), '1'): crosstable_1.T[k][1] for k in crosstable_1.T.columns}\n",
        "data.update(data2)\n",
        "# Set combinations (blocks in the Mosaic plot)\n",
        "combinations1 = [(str(k), '0') for k in crosstable_1.T.columns]\n",
        "combinations2 = [(str(k), '1') for k in crosstable_1.T.columns]\n",
        "# Ajust properties - colors\n",
        "props = {}\n",
        "for j in combinations1:\n",
        "   props[j] = {'color': 'grey'}\n",
        "\n",
        "for i in combinations2:\n",
        "   props[i] = {'color': 'red'}\n",
        "# Adjust labelizer - labels\n",
        "labels = {l: '' for l in combinations1}\n",
        "labels2 = {l: '' for l in combinations2}\n",
        "labels.update(labels2)\n",
        "lab = lambda n: labels[n]\n",
        "# Plot the Mosaic plot\n",
        "print('Mosaic Plot of {} v.s. Bankrupcy \\n'.format(df_selected.columns[4]))\n",
        "mosaic(data, gap=0.02, axes_label=True, properties=props, labelizer=lab, label_rotation=45)\n",
        "plt.show()"
      ],
      "metadata": {
        "colab": {
          "base_uri": "https://localhost:8080/",
          "height": 361
        },
        "id": "no05nZ2h1NCn",
        "outputId": "21902a4b-8ccf-417b-e3f6-9d1c63d21a0c"
      },
      "execution_count": null,
      "outputs": [
        {
          "output_type": "stream",
          "name": "stdout",
          "text": [
            "Mosaic Plot of Degree of Financial Leverage (DFL) v.s. Bankrupcy \n",
            "\n"
          ]
        },
        {
          "output_type": "display_data",
          "data": {
            "text/plain": [
              "<Figure size 432x288 with 3 Axes>"
            ],
            "image/png": "[encoded data removed]"
          },
          "metadata": {
            "needs_background": "light"
          }
        }
      ]
    },
    {
      "cell_type": "markdown",
      "source": [
        "## Key Variable Five"
      ],
      "metadata": {
        "id": "dz_L_fTe6Cjn"
      }
    },
    {
      "cell_type": "code",
      "source": [
        "# Divide target variable into ten intervals\n",
        "series_cut5 = pd.cut(df_visual.iloc[:,5], 10)\n",
        "df_visual['Cut5'] = series_cut5\n",
        "# Save data to a crosstable\n",
        "crosstable_1 = pd.crosstab(df_visual['Cut5'], df_visual['Bankrupt?'])\n",
        "# Store data for the Mosaic function\n",
        "data = {(str(k), '0'): crosstable_1.T[k][0] for k in crosstable_1.T.columns}\n",
        "data2 = {(str(k), '1'): crosstable_1.T[k][1] for k in crosstable_1.T.columns}\n",
        "data.update(data2)\n",
        "# Set combinations (blocks in the Mosaic plot)\n",
        "combinations1 = [(str(k), '0') for k in crosstable_1.T.columns]\n",
        "combinations2 = [(str(k), '1') for k in crosstable_1.T.columns]\n",
        "# Ajust properties - colors\n",
        "props = {}\n",
        "for j in combinations1:\n",
        "   props[j] = {'color': 'grey'}\n",
        "\n",
        "for i in combinations2:\n",
        "   props[i] = {'color': 'red'}\n",
        "# Adjust labelizer - labels\n",
        "labels = {l: '' for l in combinations1}\n",
        "labels2 = {l: '' for l in combinations2}\n",
        "labels.update(labels2)\n",
        "lab = lambda n: labels[n]\n",
        "# Plot the Mosaic plot\n",
        "print('Mosaic Plot of {} v.s. Bankrupcy \\n'.format(df_selected.columns[5]))\n",
        "mosaic(data, gap=0.02, axes_label=True, properties=props, labelizer=lab, label_rotation=45)\n",
        "plt.show()"
      ],
      "metadata": {
        "colab": {
          "base_uri": "https://localhost:8080/",
          "height": 367
        },
        "id": "oX9mlW8s1kZ2",
        "outputId": "bed93f62-e7d2-43b6-ec11-37f079b5bd1e"
      },
      "execution_count": null,
      "outputs": [
        {
          "output_type": "stream",
          "name": "stdout",
          "text": [
            "Mosaic Plot of Interest Coverage Ratio (Interest expense to EBIT) v.s. Bankrupcy \n",
            "\n"
          ]
        },
        {
          "output_type": "display_data",
          "data": {
            "text/plain": [
              "<Figure size 432x288 with 3 Axes>"
            ],
            "image/png": "[encoded data removed]"
          },
          "metadata": {
            "needs_background": "light"
          }
        }
      ]
    },
    {
      "cell_type": "markdown",
      "source": [
        "# Modeling and Model Comparison"
      ],
      "metadata": {
        "id": "E4KWIS4KCeaY"
      }
    },
    {
      "cell_type": "markdown",
      "source": [
        "## KNN Model\n",
        "Build a KNN classification model."
      ],
      "metadata": {
        "id": "3khWqfOMCkrx"
      }
    },
    {
      "cell_type": "code",
      "source": [
        "# Import KNN modeling package\n",
        "from sklearn.neighbors import KNeighborsClassifier\n",
        "# Determine the optimal number of neighbors\n",
        "# Do not split the data when finding number of neighbors\n",
        "from sklearn.model_selection import GridSearchCV\n",
        "KNN_grid = GridSearchCV(estimator= KNeighborsClassifier(), param_grid={'n_neighbors': np.arange(1,20)}, cv=5)\n",
        "X_knn = pd.concat([X_train_trans, X_test_trans])\n",
        "y_knn = pd.concat([y_train, y_test])\n",
        "KNN_grid.fit(X_knn, y_knn)\n",
        "n = KNN_grid.best_params_['n_neighbors']\n",
        "print('The optimal number of neighbors: ', n)\n",
        "\n",
        "# Set a n_neighbors value. For other parameters, use the default settings\n",
        "# My best KNN model is when n_neighbors is optimal\n",
        "Classifier = KNeighborsClassifier(n_neighbors=n)\n",
        "# Train a KNN model in the training dataset. Remember to use the transformed values\n",
        "Classifier.fit(X_train_trans, y_train)\n",
        "\n",
        "Classifier_best = Classifier"
      ],
      "metadata": {
        "id": "vHG6cvgRCjQ_",
        "colab": {
          "base_uri": "https://localhost:8080/"
        },
        "outputId": "11cacfee-05d9-4e72-865d-8ee227318a81"
      },
      "execution_count": null,
      "outputs": [
        {
          "output_type": "stream",
          "name": "stdout",
          "text": [
            "The optimal number of neighbors:  14\n"
          ]
        }
      ]
    },
    {
      "cell_type": "code",
      "source": [
        "# Apply the model trained to the testing data\n",
        "# Again, Remember to use the transformed values\n",
        "y_pred = Classifier.predict(X_test_trans)\n",
        "# Print out the accuracy rate\n",
        "from sklearn.metrics import accuracy_score\n",
        "accuracy_KNN = accuracy_score(y_test, y_pred)\n",
        "print('Accuracy-KNN: %.4f' % accuracy_KNN)\n",
        "\n",
        "y_pred_best = y_pred"
      ],
      "metadata": {
        "colab": {
          "base_uri": "https://localhost:8080/"
        },
        "id": "0L6DT89jHoQt",
        "outputId": "70ff5d4d-d2e7-4ec1-e4fa-6ac93dff054e"
      },
      "execution_count": null,
      "outputs": [
        {
          "output_type": "stream",
          "name": "stdout",
          "text": [
            "Accuracy-KNN: 0.9685\n"
          ]
        }
      ]
    },
    {
      "cell_type": "markdown",
      "source": [
        "## Perceptron\n",
        "Build an ML algorithm"
      ],
      "metadata": {
        "id": "pXS97gEDdsay"
      }
    },
    {
      "cell_type": "code",
      "source": [
        "from sklearn.linear_model import Perceptron \n",
        "ppn = Perceptron(max_iter=40 , eta0=0.1, random_state=2)\n",
        "ppn.fit(X_train_trans , y_train)\n",
        "y_pred = ppn.predict(X_test_trans)\n",
        "\n",
        "accuracy_Percep = accuracy_score(y_test,y_pred)\n",
        "\n",
        "from sklearn.metrics import accuracy_score\n",
        "# print ('Missclassified samples: %d' % (y_test != y_pred).sum())\n",
        "print('Accuracy: %.4f' % accuracy_Percep)"
      ],
      "metadata": {
        "colab": {
          "base_uri": "https://localhost:8080/"
        },
        "id": "ti1RO7wY3Fh3",
        "outputId": "e18630d1-b1ef-4b51-ec74-53c18c88626b"
      },
      "execution_count": null,
      "outputs": [
        {
          "output_type": "stream",
          "name": "stdout",
          "text": [
            "Accuracy: 0.9501\n"
          ]
        }
      ]
    },
    {
      "cell_type": "markdown",
      "source": [
        "## Logistic Regression\n",
        "Predict with logistic regression model."
      ],
      "metadata": {
        "id": "-tbsziRanG-E"
      }
    },
    {
      "cell_type": "code",
      "source": [
        "# Import the logistic regression modeling package\n",
        "from sklearn.linear_model import LogisticRegression\n",
        "Classifier = LogisticRegression(random_state=0)\n",
        "Classifier.fit(X_train_trans, y_train)\n",
        "# Print out the accuracy rate\n",
        "y_pred = Classifier.predict(X_test_trans)\n",
        "accuracy_Log = accuracy_score(y_test, y_pred)\n",
        "print('Accuracy-Logistic: %.4f\\n' % accuracy_Log)\n",
        "\n",
        "# List of coeffients\n",
        "pd.Series({X_train_trans.columns[i]: Classifier.coef_[0][i] \n",
        "              for i in range(len(X_train_trans.columns))}, index=X_train_trans.columns)"
      ],
      "metadata": {
        "colab": {
          "base_uri": "https://localhost:8080/"
        },
        "id": "u1sgXznqnOH6",
        "outputId": "a07339bd-1321-451c-f29a-ffe02cb1cfeb"
      },
      "execution_count": null,
      "outputs": [
        {
          "output_type": "stream",
          "name": "stdout",
          "text": [
            "Accuracy-Logistic: 0.9655\n",
            "\n"
          ]
        },
        {
          "output_type": "execute_result",
          "data": {
            "text/plain": [
              "ROA(C) before interest and depreciation before interest   -1.016396\n",
              "Interest Expense Ratio                                    -0.001032\n",
              "Debt ratio %                                               1.030019\n",
              "Degree of Financial Leverage (DFL)                         0.061151\n",
              "Interest Coverage Ratio (Interest expense to EBIT)        -0.012298\n",
              "dtype: float64"
            ]
          },
          "metadata": {},
          "execution_count": 28
        }
      ]
    },
    {
      "cell_type": "markdown",
      "source": [
        "## Naive Bayesian\n",
        "Train and test a Naive Baysian model."
      ],
      "metadata": {
        "id": "zuapMYbfpw7W"
      }
    },
    {
      "cell_type": "code",
      "source": [
        "from sklearn.naive_bayes import GaussianNB\n",
        "Classifier = GaussianNB()\n",
        "Classifier.fit(X_train_trans, y_train)\n",
        "y_pred = Classifier.predict(X_test_trans)\n",
        "accuracy_NB = accuracy_score(y_test, y_pred)\n",
        "print('Accuracy-NaiveBaysian: %.4f' % accuracy_NB)"
      ],
      "metadata": {
        "colab": {
          "base_uri": "https://localhost:8080/"
        },
        "id": "CdTxsHbQp33V",
        "outputId": "87ee1ede-6d35-46c3-ded0-2a1d1c740124"
      },
      "execution_count": null,
      "outputs": [
        {
          "output_type": "stream",
          "name": "stdout",
          "text": [
            "Accuracy-NaiveBaysian: 0.9582\n"
          ]
        }
      ]
    },
    {
      "cell_type": "markdown",
      "source": [
        "## Decision Tree\n",
        "Classify the target variable with decision tree model."
      ],
      "metadata": {
        "id": "TEM8c-nUqzTv"
      }
    },
    {
      "cell_type": "code",
      "source": [
        "from sklearn.tree import DecisionTreeClassifier\n",
        "Classifier = DecisionTreeClassifier(criterion='entropy', random_state=1)\n",
        "Classifier.fit(X_train_trans, y_train)\n",
        "y_pred = Classifier.predict(X_test_trans)\n",
        "accuracy_Tree = accuracy_score(y_test, y_pred)\n",
        "print('Accuracy-DecisionTree: %.4f' % accuracy_Tree)"
      ],
      "metadata": {
        "colab": {
          "base_uri": "https://localhost:8080/"
        },
        "id": "HsXVdPq7q6Ye",
        "outputId": "d2db6a8d-22c7-45f8-d597-8b255aa6498c"
      },
      "execution_count": null,
      "outputs": [
        {
          "output_type": "stream",
          "name": "stdout",
          "text": [
            "Accuracy-DecisionTree: 0.8871\n"
          ]
        }
      ]
    },
    {
      "cell_type": "markdown",
      "source": [
        "## Model Comparison\n",
        "Compare accuracy rates of each model. Choose the best model with the highest accuracy."
      ],
      "metadata": {
        "id": "O1BBVzdesWtc"
      }
    },
    {
      "cell_type": "code",
      "source": [
        "# Create a list to store all the outcomes\n",
        "performance = pd.Series([accuracy_KNN, accuracy_Percep, accuracy_Log, accuracy_NB, accuracy_Tree], \n",
        "                        index=['KNN', 'Perceptron', 'Logistic Regression', 'Naive Baysian', 'Decision Tree'])\n",
        "\n",
        "performance.plot.bar(figsize=(10,5), color='red', rot=0)\n",
        "plt.show()\n",
        "\n",
        "# Print out the best model\n",
        "print('\\nOur best model is {} with an accuracy rate of {}.'.format(\n",
        "    performance[performance==performance.max()].index[0], round(performance[performance==performance.max()][0], 4)))"
      ],
      "metadata": {
        "colab": {
          "base_uri": "https://localhost:8080/",
          "height": 356
        },
        "id": "Tek1PuaWsfma",
        "outputId": "9ea9bce1-faf8-48b8-e5c8-45b43305538d"
      },
      "execution_count": null,
      "outputs": [
        {
          "output_type": "display_data",
          "data": {
            "text/plain": [
              "<Figure size 720x360 with 1 Axes>"
            ],
            "image/png": "[encoded data removed]"
          },
          "metadata": {
            "needs_background": "light"
          }
        },
        {
          "output_type": "stream",
          "name": "stdout",
          "text": [
            "\n",
            "Our best model is KNN with an accuracy rate of 0.9685.\n"
          ]
        }
      ]
    },
    {
      "cell_type": "markdown",
      "source": [
        "# Best Model Performance"
      ],
      "metadata": {
        "id": "WIJqf6d_4v_D"
      }
    },
    {
      "cell_type": "markdown",
      "source": [
        "## Confusion Matrix & Classification Report"
      ],
      "metadata": {
        "id": "CfqsjoRV412L"
      }
    },
    {
      "cell_type": "code",
      "source": [
        "from sklearn.metrics import classification_report, confusion_matrix\n",
        "print(confusion_matrix(y_test, y_pred_best))\n",
        "print('\\n')\n",
        "print(classification_report(y_test, y_pred_best))"
      ],
      "metadata": {
        "colab": {
          "base_uri": "https://localhost:8080/"
        },
        "id": "dPxVG1QI5Oyt",
        "outputId": "2d1bdb23-564b-4a94-8a79-7fa0b6ee00fc"
      },
      "execution_count": null,
      "outputs": [
        {
          "output_type": "stream",
          "name": "stdout",
          "text": [
            "[[1315    3]\n",
            " [  40    6]]\n",
            "\n",
            "\n",
            "              precision    recall  f1-score   support\n",
            "\n",
            "           0       0.97      1.00      0.98      1318\n",
            "           1       0.67      0.13      0.22        46\n",
            "\n",
            "    accuracy                           0.97      1364\n",
            "   macro avg       0.82      0.56      0.60      1364\n",
            "weighted avg       0.96      0.97      0.96      1364\n",
            "\n"
          ]
        }
      ]
    },
    {
      "cell_type": "markdown",
      "source": [
        "## Retrain the KNN Model in a Two Dimendional Environment\n",
        "Use PCA to combine variables so that we can train a two dimensional model for performance visualization."
      ],
      "metadata": {
        "id": "7dEf9rvFZjjP"
      }
    },
    {
      "cell_type": "code",
      "source": [
        "from sklearn.decomposition import PCA\n",
        "pca = PCA(n_components=2)\n",
        "\n",
        "# Combining all independent variables into two components\n",
        "y_knn = y_knn.reset_index(drop=True)\n",
        "X_knn = X_knn.reset_index(drop=True)\n",
        "X_knn_pca = pca.fit_transform(X_knn)\n",
        "df_knn = pd.concat([y_knn, pd.DataFrame(X_knn_pca)], axis=1)\n",
        "\n",
        "# Resplit the data using the same random code\n",
        "X_train_knn, X_test_knn, y_train_knn, y_test_knn = train_test_split(\n",
        "    df_knn.iloc[:, 1:],\n",
        "    df_knn['Bankrupt?'],\n",
        "    test_size=0.2,\n",
        "    random_state=5\n",
        ")"
      ],
      "metadata": {
        "id": "PBmrAjYKZ0aD"
      },
      "execution_count": null,
      "outputs": []
    },
    {
      "cell_type": "markdown",
      "source": [
        "## Plot the Classification Result\n",
        "Visualize how the best model classifify the target variable in the testing dataset.\n",
        "\n",
        "Credit to : https://pythonspot.com/k-nearest-neighbors/ "
      ],
      "metadata": {
        "id": "gB7az-sf45f0"
      }
    },
    {
      "cell_type": "code",
      "source": [
        "import matplotlib\n",
        "from matplotlib.colors import ListedColormap\n",
        "# Prepare the data\n",
        "X = pd.DataFrame(X_train_knn)\n",
        "y = y_train_knn\n",
        "step = 0.02 # set step\n",
        "\n",
        "# Create color maps for the classification (2 types)\n",
        "cmap_light = ListedColormap(['#FFAAAA', '#AAFFAA'])\n",
        "cmap_bold = ListedColormap(['#FF0000', '#00FF00'])\n",
        "# Fit the PCA data\n",
        "Classifier_best.fit(X, y)\n",
        "# Calcualte the min, max, and limits of the training data\n",
        "x_min, x_max = X.iloc[:, 0].min() - 1, X.iloc[:, 0].max() + 1\n",
        "y_min, y_max = X.iloc[:, 1].min() - 1, X.iloc[:, 1].max() + 1\n",
        "xx, yy = np.meshgrid(np.arange(x_min, x_max, step), np.arange(y_min, y_max, step))\n",
        "\n",
        "# Predict the class using the data ans KNN classifier\n",
        "Z = Classifier_best.predict(np.c_[xx.ravel(), yy.ravel()])\n",
        "\n",
        "# Assign color plots to the result\n",
        "Z = Z.reshape(xx.shape)\n",
        "plt.figure(figsize=(10,10))\n",
        "plt.pcolormesh(xx, yy, Z, cmap=cmap_light)\n",
        "# Plot the points of the training dataset\n",
        "# plt.scatter(X.iloc[:, 0], X.iloc[:, 1], c=y, cmap=cmap_bold)\n",
        "# Plot the points of the testing dataset\n",
        "# cmap_test = ListedColormap(['gray', 'blue'])\n",
        "# plt.scatter(X_test_knn.iloc[:, 0], X_test_knn.iloc[:, 1], c=y_test_knn, cmap=cmap_test, marker='+', s=70)\n",
        "plt.xlim(xx.min(), xx.max())\n",
        "plt.ylim(yy.min(), yy.max())\n",
        "plt.title(\"Bankrupcy classification Yes or No \\n 2D of all the data points classification (k = %i) \\n\" % (n), fontsize=15)\n",
        "plt.show()"
      ],
      "metadata": {
        "colab": {
          "base_uri": "https://localhost:8080/",
          "height": 644
        },
        "id": "S_a3TJHCDN8L",
        "outputId": "2dc96776-6797-4901-806e-6a48aecabb43"
      },
      "execution_count": null,
      "outputs": [
        {
          "output_type": "display_data",
          "data": {
            "text/plain": [
              "<Figure size 720x720 with 1 Axes>"
            ],
            "image/png": "[encoded data removed]"
          },
          "metadata": {
            "needs_background": "light"
          }
        }
      ]
    },
    {
      "cell_type": "code",
      "source": [
        "import matplotlib\n",
        "from matplotlib.colors import ListedColormap\n",
        "# Prepare the data\n",
        "X = pd.DataFrame(X_train_knn)\n",
        "y = y_train_knn\n",
        "step = 0.02 # set step\n",
        "\n",
        "# Create color maps for the classification (2 types)\n",
        "cmap_light = ListedColormap(['#FFAAAA', '#AAFFAA'])\n",
        "cmap_bold = ListedColormap(['#FF0000', '#00FF00'])\n",
        "# Fit the PCA data\n",
        "Classifier_best.fit(X, y)\n",
        "# Calcualte the min, max, and limits of the training data\n",
        "x_min, x_max = X.iloc[:, 0].min() - 1, X.iloc[:, 0].max() + 1\n",
        "y_min, y_max = X.iloc[:, 1].min() - 1, X.iloc[:, 1].max() + 1\n",
        "xx, yy = np.meshgrid(np.arange(x_min, x_max, step), np.arange(y_min, y_max, step))\n",
        "\n",
        "# Predict the class using the data ans KNN classifier\n",
        "Z = Classifier_best.predict(np.c_[xx.ravel(), yy.ravel()])\n",
        "\n",
        "# Assign color plots to the result\n",
        "Z = Z.reshape(xx.shape)\n",
        "plt.figure(figsize=(10,10))\n",
        "plt.pcolormesh(xx, yy, Z, cmap=cmap_light)\n",
        "# Plot the points of the training dataset\n",
        "plt.scatter(X.iloc[:, 0], X.iloc[:, 1], c=y, cmap=cmap_bold)\n",
        "# Plot the points of the testing dataset\n",
        "cmap_test = ListedColormap(['gray', 'blue'])\n",
        "plt.scatter(X_test_knn.iloc[:, 0], X_test_knn.iloc[:, 1], c=y_test_knn, cmap=cmap_test, marker='+', s=70)\n",
        "plt.xlim(xx.min(), xx.max())\n",
        "plt.ylim(yy.min(), yy.max())\n",
        "plt.title(\"Bankrupcy classification Yes or No \\n 2D of all the data points classification (k = %i) \\n\" % (n), fontsize=15)\n",
        "plt.show()"
      ],
      "metadata": {
        "id": "QyvL3XRn1D8r",
        "colab": {
          "base_uri": "https://localhost:8080/",
          "height": 644
        },
        "outputId": "2a478f99-8c0c-4c34-e8eb-ef1c88decb2a"
      },
      "execution_count": null,
      "outputs": [
        {
          "output_type": "display_data",
          "data": {
            "text/plain": [
              "<Figure size 720x720 with 1 Axes>"
            ],
            "image/png": "[encoded data removed]"
          },
          "metadata": {
            "needs_background": "light"
          }
        }
      ]
    },
    {
      "cell_type": "markdown",
      "source": [
        "## Compare the Difference of the Accuracy Rates (pca vs 5D)"
      ],
      "metadata": {
        "id": "ay8yVnxge6gf"
      }
    },
    {
      "cell_type": "code",
      "source": [
        "# Run the previous block first!\n",
        "y_pred = Classifier_best.predict(pd.DataFrame(X_test_knn))\n",
        "accuracy_KNN_pca = accuracy_score(y_test, y_pred)\n",
        "print('Accuracy-KNN_pca: %.4f' % accuracy_KNN)\n",
        "\n",
        "# The difference should be insignificant so that we can present the performance\n",
        "# of our KNN model in a 2D canvas\n",
        "diff = abs(accuracy_KNN_pca-accuracy_KNN)\n",
        "print('We can see the difference is very insignificant: ', diff)"
      ],
      "metadata": {
        "colab": {
          "base_uri": "https://localhost:8080/"
        },
        "id": "S9qUSpzedjDA",
        "outputId": "22376a33-1428-407a-9838-54eb22d928c9"
      },
      "execution_count": null,
      "outputs": [
        {
          "output_type": "stream",
          "name": "stdout",
          "text": [
            "Accuracy-KNN_pca: 0.9685\n",
            "We can see the difference is very insignificant:  0.008064516129032251\n"
          ]
        }
      ]
    }
  ]
}